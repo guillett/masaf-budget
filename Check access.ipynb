{
 "cells": [
  {
   "cell_type": "code",
   "execution_count": null,
   "id": "139ebb07-e6d9-4613-85b6-9882e8928f3a",
   "metadata": {},
   "outputs": [],
   "source": [
    "file = \"/home/thomas/Téléchargements/masa/SearchRequest2.xml\"\n",
    "file = \"/home/thomas/Téléchargements/SearchRequest.xml\"\n",
    "file = \"/home/thomas/Téléchargements/SearchRequest (1).xml\"\n",
    "file = \"/home/thomas/Téléchargements/SearchRequest-10500.xml\""
   ]
  },
  {
   "cell_type": "code",
   "execution_count": null,
   "id": "dedfecab-a814-453c-81f3-acdb684a3f5e",
   "metadata": {},
   "outputs": [],
   "source": [
    "import xml.etree.ElementTree as ET"
   ]
  },
  {
   "cell_type": "code",
   "execution_count": null,
   "id": "dec9110e-c161-49c5-934b-6194aa02a964",
   "metadata": {},
   "outputs": [],
   "source": [
    "tree = ET.parse(file)\n",
    "root = tree.getroot()"
   ]
  },
  {
   "cell_type": "code",
   "execution_count": null,
   "id": "df20c2ef-ce62-4e6f-9d39-dc4f9e1a1643",
   "metadata": {},
   "outputs": [],
   "source": [
    "root"
   ]
  },
  {
   "cell_type": "code",
   "execution_count": null,
   "id": "9f25af70-159b-4e1b-8e74-ff6c0468e7ab",
   "metadata": {},
   "outputs": [],
   "source": [
    "r = root[0]"
   ]
  },
  {
   "cell_type": "code",
   "execution_count": null,
   "id": "9c00d5a6-ef12-48c4-a780-bd40246005f9",
   "metadata": {},
   "outputs": [],
   "source": [
    "d = {}"
   ]
  },
  {
   "cell_type": "code",
   "execution_count": null,
   "id": "1cb22f90-a750-411f-8fce-c1b68300f44f",
   "metadata": {},
   "outputs": [],
   "source": [
    "for c in r:\n",
    "    if c.tag != \"item\":\n",
    "        continue\n",
    "    t = c.find(\"type\").text\n",
    "    if t in d:\n",
    "        d[t] = d[t] + 1\n",
    "    else:\n",
    "        d[t] = 1"
   ]
  },
  {
   "cell_type": "code",
   "execution_count": null,
   "id": "14dea6bc-1b23-428b-9cae-f07a34fb9ae3",
   "metadata": {},
   "outputs": [],
   "source": [
    "c.find(\"type\").text"
   ]
  },
  {
   "cell_type": "code",
   "execution_count": null,
   "id": "6a97a912-88b3-4826-9c21-f8668034e50c",
   "metadata": {},
   "outputs": [],
   "source": [
    "t"
   ]
  },
  {
   "cell_type": "code",
   "execution_count": null,
   "id": "d80f7b32-aeac-455f-b903-7c537738fef8",
   "metadata": {},
   "outputs": [],
   "source": [
    "t.text"
   ]
  },
  {
   "cell_type": "code",
   "execution_count": null,
   "id": "34747a62-703e-48df-b903-afe30ab3d699",
   "metadata": {},
   "outputs": [],
   "source": [
    "from grist_api import GristDocAPI"
   ]
  },
  {
   "cell_type": "code",
   "execution_count": null,
   "id": "07f03b3e-4be5-4e30-84ef-e3950ff99102",
   "metadata": {},
   "outputs": [],
   "source": [
    "SERVER = \"https://grist.numerique.gouv.fr\"\n",
    "DOC_ID = \"9mbWaZNUvym2\""
   ]
  },
  {
   "cell_type": "code",
   "execution_count": null,
   "id": "6515edbf-7873-4db8-bfaa-04eae90b8d33",
   "metadata": {},
   "outputs": [],
   "source": [
    "api = GristDocAPI(DOC_ID, server=SERVER)"
   ]
  },
  {
   "cell_type": "code",
   "execution_count": null,
   "id": "4d72c57c-4be1-45bb-8b7e-5b9b64e521b7",
   "metadata": {},
   "outputs": [],
   "source": [
    "r = api.call(\"access\")"
   ]
  },
  {
   "cell_type": "code",
   "execution_count": null,
   "id": "65d3413b-81ea-4fe6-900b-812ac9cc7b91",
   "metadata": {},
   "outputs": [],
   "source": [
    "accesses = r.json()"
   ]
  },
  {
   "cell_type": "code",
   "execution_count": null,
   "id": "02ba13a2-3cdf-4512-8c41-6256e8f5017f",
   "metadata": {},
   "outputs": [],
   "source": [
    "ac = {}\n",
    "for a in accesses[\"users\"]:\n",
    "    aa = a[\"access\"] or a[\"parentAccess\"]\n",
    "    if aa not in ac:\n",
    "        ac[aa] = 1\n",
    "    else:\n",
    "        ac[aa] += 1\n",
    "ac"
   ]
  },
  {
   "cell_type": "code",
   "execution_count": null,
   "id": "9b3d6ad6-c6fb-40d9-ab7e-78a8975cf918",
   "metadata": {},
   "outputs": [],
   "source": [
    "# drop viewers\n",
    "#"
   ]
  },
  {
   "cell_type": "code",
   "execution_count": null,
   "id": "e9906604-acb6-4cf4-ab78-df92172ffc56",
   "metadata": {},
   "outputs": [],
   "source": [
    "api = GristDocAPI(DOC_ID, server=SERVER)\n",
    "accessResponse = api.call(\"access\")\n",
    "accesses = accessResponse.json()\n",
    "\n",
    "viewersAccessToRemove = {\n",
    "    person[\"email\"]: None\n",
    "    for person in accesses[\"users\"]\n",
    "    if (person[\"access\"] or person[\"parentAccess\"]) == \"viewers\"\n",
    "}\n",
    "editorAccesses = [\n",
    "    person[\"email\"] for person in accesses[\"users\"] if person[\"access\"] != \"viewers\"\n",
    "]\n",
    "\n",
    "\n",
    "people = [person for person in api.fetch_table(\"Personnes\") if len(person.Email)]\n",
    "toAdd = [p.Email for p in people if p.Email not in editorAccesses]\n",
    "\n",
    "peopleEmails = [p.Email for p in people]\n",
    "toRemove = [ea for ea in editorAccesses if ea not in peopleEmails]\n",
    "\n",
    "updatesToDo = {\n",
    "    **viewersAccessToRemove,\n",
    "    **{email: None for email in toRemove},\n",
    "    **{email: \"editors\" for email in toAdd},\n",
    "}\n",
    "if len(updatesToDo):\n",
    "    data = {\"delta\": {\"maxInheritedRole\": \"owners\", \"users\": todo}}\n",
    "    api.call(\"access\", data, \"PATCH\")\n",
    "\n",
    "    newAccessMap = {}\n",
    "    for email in updatesToDo:\n",
    "        access = updatesToDo[email]\n",
    "        if access not in newAccessMap:\n",
    "            newAccessMap[access] = []\n",
    "        newAccessMap[access].append(email)\n",
    "    newAccessMap"
   ]
  },
  {
   "cell_type": "code",
   "execution_count": null,
   "id": "85c725ec-6da2-4d72-9fcb-a8daae6f40d9",
   "metadata": {},
   "outputs": [],
   "source": []
  },
  {
   "cell_type": "code",
   "execution_count": null,
   "id": "788d169c-e25a-4a46-b44f-72679f273717",
   "metadata": {},
   "outputs": [],
   "source": [
    "updatesToDo = {\n",
    "    \"thomas@palya.fr\": None,\n",
    "    \"thomas+edit@alya.fr\": \"editors\",\n",
    "    \"t@t\": \"editors\",\n",
    "}"
   ]
  },
  {
   "cell_type": "code",
   "execution_count": null,
   "id": "ed56b09f-08fe-4903-997f-5e8f8bd71a0a",
   "metadata": {},
   "outputs": [],
   "source": [
    "newAccessMap = {}\n",
    "for email in updatesToDo:\n",
    "    access = updatesToDo[email]\n",
    "    if access not in newAccessMap:\n",
    "        newAccessMap[access] = []\n",
    "    newAccessMap[access].append(email)\n",
    "newAccessMap"
   ]
  },
  {
   "cell_type": "code",
   "execution_count": null,
   "id": "061def1c-0e36-436b-9675-1f1876765a11",
   "metadata": {},
   "outputs": [],
   "source": [
    "\"Mise à jour des droits d'accès\""
   ]
  },
  {
   "cell_type": "code",
   "execution_count": null,
   "id": "be104da1-5764-424d-8f96-ffa1568e9f37",
   "metadata": {},
   "outputs": [],
   "source": [
    "[[a, \"\\n\".join([f\"- {e}\" for e in newAccessMap[a]])] for a in newAccessMap]"
   ]
  },
  {
   "cell_type": "code",
   "execution_count": null,
   "id": "194a2664-4db5-47ca-bcb7-6efa66b5fa40",
   "metadata": {},
   "outputs": [],
   "source": [
    "names = {None: \"Suppression:\", \"editors\": \"Edition:\"}"
   ]
  },
  {
   "cell_type": "code",
   "execution_count": null,
   "id": "9da52b29-e2ef-4063-aa19-9203dd9eb602",
   "metadata": {},
   "outputs": [],
   "source": [
    "body = \"\\n\\n\".join(\n",
    "    [\"\\n\".join([names[a], *[f\"- {e}\" for e in newAccessMap[a]]]) for a in newAccessMap]\n",
    ")"
   ]
  },
  {
   "cell_type": "code",
   "execution_count": null,
   "id": "4f5a08f0-dfa9-4edb-ad92-55b611f46f45",
   "metadata": {},
   "outputs": [],
   "source": [
    "print(body)"
   ]
  },
  {
   "cell_type": "code",
   "execution_count": null,
   "id": "e443bbcc-a486-4c2e-89a5-d2a633131c9b",
   "metadata": {},
   "outputs": [],
   "source": [
    "body.encode(\"ascii\")"
   ]
  },
  {
   "cell_type": "code",
   "execution_count": null,
   "id": "b21e45f9-c5c8-4143-99cc-7f5b55c72383",
   "metadata": {},
   "outputs": [],
   "source": [
    "body[32]"
   ]
  },
  {
   "cell_type": "code",
   "execution_count": null,
   "id": "3c682da9-c56c-4147-bc20-90f69ca13f47",
   "metadata": {},
   "outputs": [],
   "source": []
  }
 ],
 "metadata": {
  "kernelspec": {
   "display_name": "Python 3 (ipykernel)",
   "language": "python",
   "name": "python3"
  },
  "language_info": {
   "codemirror_mode": {
    "name": "ipython",
    "version": 3
   },
   "file_extension": ".py",
   "mimetype": "text/x-python",
   "name": "python",
   "nbconvert_exporter": "python",
   "pygments_lexer": "ipython3",
   "version": "3.11.9"
  }
 },
 "nbformat": 4,
 "nbformat_minor": 5
}
