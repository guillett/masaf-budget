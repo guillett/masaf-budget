{
 "cells": [
  {
   "cell_type": "code",
   "execution_count": null,
   "id": "0ab3e91a-065d-47d5-8be4-7db2862b958e",
   "metadata": {},
   "outputs": [],
   "source": [
    "import xml.etree.ElementTree as ET\n",
    "import typing\n",
    "import pandas as pd"
   ]
  },
  {
   "cell_type": "code",
   "execution_count": null,
   "id": "74e77f49-918e-461e-975f-c10b5d2eacc7",
   "metadata": {},
   "outputs": [],
   "source": [
    "# fannys = root.find(\"channel\").findall(\"item/reporter[@username='fanny.blanc']/..\")"
   ]
  },
  {
   "cell_type": "code",
   "execution_count": null,
   "id": "994e9c30-8ca7-4133-a470-ff46e269d646",
   "metadata": {},
   "outputs": [],
   "source": [
    "class Commande(typing.NamedTuple):\n",
    "    title: str\n",
    "    key: str\n",
    "    link: str\n",
    "    projet: str\n",
    "    tiers: str\n",
    "    montant: float"
   ]
  },
  {
   "cell_type": "code",
   "execution_count": null,
   "id": "d0ac5b8b-a87c-460e-b432-17cdf4f9bb08",
   "metadata": {},
   "outputs": [],
   "source": [
    "props = {\n",
    "    \"tiers\": {\"name\": \"customfield_13225\", \"fct\": lambda x: x},\n",
    "    \"montant\": {\"name\": \"customfield_12301\", \"fct\": float},\n",
    "    \"projet-budgetaire\": {\n",
    "        \"name\": \"customfield_11103\",\n",
    "        \"fct\": lambda x: x,\n",
    "    },\n",
    "}\n",
    "\n",
    "\n",
    "def getter(c, code):\n",
    "    p = props[code]\n",
    "    return p[\"fct\"](\n",
    "        c.find(\n",
    "            f\"customfields/customfield[@id='{p['name']}']/customfieldvalues/customfieldvalue\"\n",
    "        ).text\n",
    "    )"
   ]
  },
  {
   "cell_type": "code",
   "execution_count": null,
   "id": "579ff3fb-a0a2-4106-acc7-a0a371db9021",
   "metadata": {},
   "outputs": [],
   "source": [
    "def build(node):\n",
    "    return Commande(\n",
    "        node.find(\"title\").text,\n",
    "        node.find(\"key\").text,\n",
    "        node.find(\"link\").text,\n",
    "        getter(node, \"projet-budgetaire\"),\n",
    "        getter(node, \"tiers\"),\n",
    "        getter(node, \"montant\"),\n",
    "    )"
   ]
  },
  {
   "cell_type": "code",
   "execution_count": null,
   "id": "04285c22-e6c1-460a-b2a7-8b1b03b615f0",
   "metadata": {},
   "outputs": [],
   "source": [
    "def buildDataFrame(file):\n",
    "    tree = ET.parse(file)\n",
    "    root = tree.getroot()\n",
    "    items = root.find(\"channel\").findall(\"item\")\n",
    "    selection = items\n",
    "    commande_nodes = [i for i in selection if i.find(\".//type\").text == \"Commande\"]\n",
    "    commandes = [build(c) for c in commande_nodes]\n",
    "    return pd.DataFrame(commandes)"
   ]
  },
  {
   "cell_type": "code",
   "execution_count": null,
   "id": "597edc76-905a-4f68-b215-9ccb2676dc16",
   "metadata": {},
   "outputs": [],
   "source": [
    "df0310 = buildDataFrame(\"/home/thomas/Téléchargements/masa/export10.03.2025.xml\")\n",
    "df0325 = buildDataFrame(\"/home/thomas/Téléchargements/masa/SearchRequest20032025.xml\")"
   ]
  },
  {
   "cell_type": "code",
   "execution_count": null,
   "id": "1799a50b-817e-45cb-9766-0f85e65de4eb",
   "metadata": {},
   "outputs": [],
   "source": [
    "df0310"
   ]
  },
  {
   "cell_type": "code",
   "execution_count": null,
   "id": "36a7c518-b595-4655-a651-390f3143dac5",
   "metadata": {},
   "outputs": [],
   "source": [
    "res = df0310[df0310.key != \"CMDBRB-229\"].merge(df0325, how=\"outer\", on=\"key\")"
   ]
  },
  {
   "cell_type": "code",
   "execution_count": null,
   "id": "0fd3cb68-e8fe-4600-84a1-473bce70d025",
   "metadata": {},
   "outputs": [],
   "source": [
    "assert res[res.tiers_y != res.tiers_y].size == 0"
   ]
  },
  {
   "cell_type": "code",
   "execution_count": null,
   "id": "22605361-b1c8-46a3-979d-bb6062de6d74",
   "metadata": {},
   "outputs": [],
   "source": [
    "res[(~res.title_x.isna()) * (res.montant_x != res.montant_y)]"
   ]
  },
  {
   "cell_type": "code",
   "execution_count": null,
   "id": "4c90ff27-90fb-45c8-b176-9d64cb89d6f7",
   "metadata": {},
   "outputs": [],
   "source": [
    "res[res.tiers_x.str.startswith(\"1700000881\").fillna(False)]"
   ]
  },
  {
   "cell_type": "code",
   "execution_count": null,
   "id": "78e9af77-2a34-423b-86f8-3613353105fa",
   "metadata": {},
   "outputs": [],
   "source": [
    "res[[\"tiers_y\", \"montant_x\", \"montant_y\"]].groupby(\"tiers_y\").sum()"
   ]
  },
  {
   "cell_type": "code",
   "execution_count": null,
   "id": "450c5aa3-0428-430a-af76-2b37a946e027",
   "metadata": {},
   "outputs": [],
   "source": [
    "res.to_excel(\"res.xlsx\")"
   ]
  }
 ],
 "metadata": {
  "kernelspec": {
   "display_name": "Python 3 (ipykernel)",
   "language": "python",
   "name": "python3"
  },
  "language_info": {
   "codemirror_mode": {
    "name": "ipython",
    "version": 3
   },
   "file_extension": ".py",
   "mimetype": "text/x-python",
   "name": "python",
   "nbconvert_exporter": "python",
   "pygments_lexer": "ipython3",
   "version": "3.11.9"
  }
 },
 "nbformat": 4,
 "nbformat_minor": 5
}
