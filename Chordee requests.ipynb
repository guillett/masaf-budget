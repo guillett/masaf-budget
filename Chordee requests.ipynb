{
 "cells": [
  {
   "cell_type": "code",
   "execution_count": null,
   "id": "b27c6f84-8104-4c86-aa82-48731f50e3d8",
   "metadata": {},
   "outputs": [],
   "source": [
    "import json"
   ]
  },
  {
   "cell_type": "code",
   "execution_count": null,
   "id": "b421d904-d8c9-4b4b-8816-8ca6a64c1913",
   "metadata": {},
   "outputs": [],
   "source": [
    "import dotenv"
   ]
  },
  {
   "cell_type": "code",
   "execution_count": null,
   "id": "0b5a83dd-918c-461b-a838-b43cecf859df",
   "metadata": {},
   "outputs": [],
   "source": [
    "import os"
   ]
  },
  {
   "cell_type": "code",
   "execution_count": null,
   "id": "8d158f7d-8a13-4841-932c-618557d47f3b",
   "metadata": {},
   "outputs": [],
   "source": [
    "dotenv.load_dotenv()"
   ]
  },
  {
   "cell_type": "code",
   "execution_count": null,
   "id": "0c374f8a-fb07-40db-a945-0dc0ad07094c",
   "metadata": {},
   "outputs": [],
   "source": [
    "base = os.environ[\"JIRA_BASE\"]\n",
    "base"
   ]
  },
  {
   "cell_type": "code",
   "execution_count": null,
   "id": "d5c2cc58-e51d-4734-93ed-6ac88a449a07",
   "metadata": {},
   "outputs": [],
   "source": [
    "import requests"
   ]
  },
  {
   "cell_type": "code",
   "execution_count": null,
   "id": "f58ea07b-5938-427f-bff6-da99c1c41718",
   "metadata": {},
   "outputs": [],
   "source": [
    "headers = {\n",
    "    \"Content-Type\": \"application/json\",\n",
    "}"
   ]
  },
  {
   "cell_type": "code",
   "execution_count": null,
   "id": "ea631ed2-0b60-44f1-89f0-099dba7b35a3",
   "metadata": {},
   "outputs": [],
   "source": [
    "url_session = f\"{base}/rest/auth/1/session\""
   ]
  },
  {
   "cell_type": "code",
   "execution_count": null,
   "id": "1cc98ab6-b1d0-4082-a3c4-d387303dc64e",
   "metadata": {},
   "outputs": [],
   "source": [
    "credentials = {\n",
    "    \"username\": os.environ[\"JIRA_USER\"],\n",
    "    \"password\": os.environ[\"JIRA_PWD\"],\n",
    "}"
   ]
  },
  {
   "cell_type": "code",
   "execution_count": null,
   "id": "6dcb070f-87cb-465c-910b-e843f5b6771f",
   "metadata": {},
   "outputs": [],
   "source": [
    "r = requests.post(\n",
    "    url_session, data=json.dumps(credentials), headers=headers, verify=False\n",
    ")"
   ]
  },
  {
   "cell_type": "code",
   "execution_count": null,
   "id": "db98b44a-5832-48a5-bdd5-82997b7286f7",
   "metadata": {},
   "outputs": [],
   "source": [
    "r"
   ]
  },
  {
   "cell_type": "code",
   "execution_count": null,
   "id": "ca43043c-0bcb-4041-a3c8-4ef16a194837",
   "metadata": {},
   "outputs": [],
   "source": []
  }
 ],
 "metadata": {
  "kernelspec": {
   "display_name": "Python 3 (ipykernel)",
   "language": "python",
   "name": "python3"
  },
  "language_info": {
   "codemirror_mode": {
    "name": "ipython",
    "version": 3
   },
   "file_extension": ".py",
   "mimetype": "text/x-python",
   "name": "python",
   "nbconvert_exporter": "python",
   "pygments_lexer": "ipython3",
   "version": "3.11.9"
  }
 },
 "nbformat": 4,
 "nbformat_minor": 5
}
