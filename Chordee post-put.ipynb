{
 "cells": [
  {
   "cell_type": "code",
   "execution_count": null,
   "id": "57c1aac7-baf3-4a16-9e1d-8d68699d74b9",
   "metadata": {},
   "outputs": [],
   "source": [
    "import pypdf"
   ]
  },
  {
   "cell_type": "code",
   "execution_count": null,
   "id": "c325ae97-4860-41e6-9e1f-7e0fa10182d5",
   "metadata": {},
   "outputs": [],
   "source": [
    "reader = pypdf.PdfReader(\n",
    "    \"/home/thomas/Téléchargements/masa/1406753965/BDC_1406753965_20241213_091430.PDF\"\n",
    ")"
   ]
  },
  {
   "cell_type": "code",
   "execution_count": null,
   "id": "12d6a658-c422-4bba-b6c2-fd4a0a070f60",
   "metadata": {},
   "outputs": [],
   "source": [
    "reader.resolved_objects"
   ]
  },
  {
   "cell_type": "code",
   "execution_count": null,
   "id": "abf2d473-9af1-4b95-a3e6-65a02d5174b1",
   "metadata": {},
   "outputs": [],
   "source": [
    "reader.root_object[\"/Pages\"][\"/Kids\"][0]"
   ]
  },
  {
   "cell_type": "code",
   "execution_count": null,
   "id": "0e03c59d-5f3d-4583-a400-470be31fc402",
   "metadata": {},
   "outputs": [],
   "source": [
    "reader.attachments"
   ]
  },
  {
   "cell_type": "code",
   "execution_count": null,
   "id": "660d82a3-1bca-48a1-9f95-65426e65c0f6",
   "metadata": {},
   "outputs": [],
   "source": [
    "reader.get_object(reader.root_object[\"/Pages\"][\"/Kids\"][0])"
   ]
  },
  {
   "cell_type": "code",
   "execution_count": null,
   "id": "38b9c6c0-c842-47a4-b8b5-ec1a7ffc0164",
   "metadata": {},
   "outputs": [],
   "source": [
    "p = reader.pages[0]\n",
    "p.keys()"
   ]
  },
  {
   "cell_type": "code",
   "execution_count": null,
   "id": "9897a383-2672-481e-bdc3-d855bbd4374e",
   "metadata": {},
   "outputs": [],
   "source": [
    "p[\"/Resources\"].keys()"
   ]
  },
  {
   "cell_type": "code",
   "execution_count": null,
   "id": "cb741d9e-8943-4631-9a3c-0b13f8f6dadf",
   "metadata": {},
   "outputs": [],
   "source": [
    "p[\"/Resources\"][\"/XObject\"]  # .keys()"
   ]
  },
  {
   "cell_type": "code",
   "execution_count": null,
   "id": "84ce325e-45bf-4a37-a083-635120df078e",
   "metadata": {},
   "outputs": [],
   "source": [
    "import requests\n",
    "import json\n",
    "import pprint"
   ]
  },
  {
   "cell_type": "code",
   "execution_count": null,
   "id": "ca2fb4d8-b562-4d1f-a426-df9ab5648c97",
   "metadata": {},
   "outputs": [],
   "source": [
    "url_create = \"https://ac.national.agri/jira/rest/api/latest/issue/\"\n",
    "#    url = \"https://ac.national.agri/jira/rest/api/latest/issue/CMDBRB-223\""
   ]
  },
  {
   "cell_type": "code",
   "execution_count": null,
   "id": "a9e8e86c-a575-4b2e-b045-b77604d95e95",
   "metadata": {},
   "outputs": [],
   "source": [
    "headers = {\n",
    "    # OK Jenn    \"Cookie\": \"JSESSIONID=\",\n",
    "    \"Content-Type\": \"application/json\",\n",
    "}"
   ]
  },
  {
   "cell_type": "code",
   "execution_count": null,
   "id": "e89ff268-6cbf-4a65-b081-366de97481be",
   "metadata": {},
   "outputs": [],
   "source": [
    "data = {\n",
    "    \"fields\": {\n",
    "        # \"customfield_10075\": \"ASSETSVISUELS_PTN_MCO\",\n",
    "        \"project\": {\"id\": \"11003\"},  # ??\n",
    "        \"issuetype\": {\"id\": \"10020\"},  # ??\n",
    "        \"customfield_13403\": 1800,  # montant\n",
    "        \"customfield_10075\": \"Prévisionnel ASSETSVISUELS_PTN_MCO\",\n",
    "        # \"customfield_13403\":\n",
    "        \"summary\": \"Prévisionnel ASSETSVISUELS_PTN_MCO\",\n",
    "        \"customfield_10074\": \"2025-03-31\",\n",
    "        \"customfield_10075\": \"Prévisionnel ASSETSVISUELS_PTN_MCO\",\n",
    "        \"customfield_13402\": {\"id\": \"20159\"},  # ??\n",
    "    }\n",
    "}\n",
    "r = requests.post(url_create, data=json.dumps(data), headers=headers, verify=False)\n",
    "(r, r.text)"
   ]
  },
  {
   "cell_type": "code",
   "execution_count": null,
   "id": "e8eefd01-613b-4121-8a0f-4f9da0a8d36d",
   "metadata": {},
   "outputs": [],
   "source": [
    "pprint.pprint(r.json())"
   ]
  },
  {
   "cell_type": "code",
   "execution_count": null,
   "id": "d1b0ad95-719b-4352-8f78-49b52cfd9e65",
   "metadata": {},
   "outputs": [],
   "source": [
    "url_update = \"https://ac.national.agri/jira/rest/api/latest/issue/CMDBRB-229\""
   ]
  },
  {
   "cell_type": "code",
   "execution_count": null,
   "id": "2e03742c-7ead-4c32-9082-2dd0b2efa649",
   "metadata": {},
   "outputs": [],
   "source": [
    "data = {\n",
    "    # \"customfield_10075\": \"ASSETSVISUELS_PTN_MCO\",\n",
    "    # \"project\": \"11003\",\n",
    "    # 1800TTC\n",
    "    \"fields\": {\n",
    "        # \"customfield_10433\": {\"id\": \"20704\"}, # responsable de l'engagement\n",
    "        # \"customfield_11103\": \"ASSETSVISUELS_PTN_MCO\", # projet budgétaire\n",
    "        # \"customfield_10106\": {\"name\": \"fanny.blanc\"},#contact\n",
    "        # \"customfield_10064\": 1800, #ttc\n",
    "        # \"customfield_10100\": 1800/1.2, #ht\n",
    "        # \"customfield_13228\": \"Aucun\",\n",
    "        # Programme + Action + Sous-action\n",
    "        # \"customfield_10542\": {\"id\": \"12052\"}, #Programme 0215\n",
    "        # Action + Sous-action\n",
    "        # \"customfield_13225\": {\"id\": \"18328\"}, #SPM\n",
    "        # \"customfield_10542\": {\"id\": \"12052\"}, #Programme 0215\n",
    "        # \"customfield_10900\": {\"id\": \"14712\"}, #action 04\n",
    "        # \"customfield_10543\": {\"id\": \"12113\"}, #sous-action84\n",
    "        # \"customfield_10545\": {\"id\": \"12112\"}, # ko\n",
    "        # \"customfield_10548\": {\"id\": \"11935\"},# ko\n",
    "    }\n",
    "}\n",
    "r = requests.put(url_update, data=json.dumps(data), headers=headers, verify=False)\n",
    "r"
   ]
  },
  {
   "cell_type": "code",
   "execution_count": null,
   "id": "a04eba19-e4c0-4f4e-b59c-55c3bd5c6064",
   "metadata": {},
   "outputs": [],
   "source": [
    "r.text"
   ]
  },
  {
   "cell_type": "code",
   "execution_count": null,
   "id": "1c815154-b52a-40fd-a19e-da9ad4d62631",
   "metadata": {},
   "outputs": [],
   "source": [
    "pprint.pprint(r.json())"
   ]
  },
  {
   "cell_type": "code",
   "execution_count": null,
   "id": "ef3e4419-21e6-4e6b-8f41-34fec2e16afc",
   "metadata": {},
   "outputs": [],
   "source": []
  }
 ],
 "metadata": {
  "kernelspec": {
   "display_name": "Python 3 (ipykernel)",
   "language": "python",
   "name": "python3"
  },
  "language_info": {
   "codemirror_mode": {
    "name": "ipython",
    "version": 3
   },
   "file_extension": ".py",
   "mimetype": "text/x-python",
   "name": "python",
   "nbconvert_exporter": "python",
   "pygments_lexer": "ipython3",
   "version": "3.11.9"
  }
 },
 "nbformat": 4,
 "nbformat_minor": 5
}
