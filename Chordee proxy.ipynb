{
 "cells": [
  {
   "cell_type": "code",
   "execution_count": null,
   "id": "255bd303-8fc4-433f-8060-2c6e6fa75dec",
   "metadata": {},
   "outputs": [],
   "source": [
    "from flask import Flask, jsonify, request"
   ]
  },
  {
   "cell_type": "code",
   "execution_count": null,
   "id": "a72d6f31-14e6-4efa-93f9-1e9d2209ef89",
   "metadata": {},
   "outputs": [],
   "source": [
    "application = Flask(__name__)\n",
    "\n",
    "\n",
    "@application.route(\"/\")\n",
    "def index():\n",
    "    return jsonify({\"result\": \"Home OK\"})"
   ]
  },
  {
   "cell_type": "code",
   "execution_count": null,
   "id": "7bfa0fe2-3bb3-4753-ab0b-7147964ee384",
   "metadata": {},
   "outputs": [],
   "source": [
    "application.run()"
   ]
  },
  {
   "cell_type": "code",
   "execution_count": null,
   "id": "6f993d0e-af04-4232-bf5e-d3868829bf50",
   "metadata": {},
   "outputs": [],
   "source": []
  }
 ],
 "metadata": {
  "kernelspec": {
   "display_name": "Python 3 (ipykernel)",
   "language": "python",
   "name": "python3"
  },
  "language_info": {
   "codemirror_mode": {
    "name": "ipython",
    "version": 3
   },
   "file_extension": ".py",
   "mimetype": "text/x-python",
   "name": "python",
   "nbconvert_exporter": "python",
   "pygments_lexer": "ipython3",
   "version": "3.11.9"
  }
 },
 "nbformat": 4,
 "nbformat_minor": 5
}
